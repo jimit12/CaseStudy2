{
  "nbformat": 4,
  "nbformat_minor": 0,
  "metadata": {
    "colab": {
      "name": "Case_Study_2.ipynb",
      "provenance": [],
      "collapsed_sections": [
        "fL2_3gTFzQ-H"
      ]
    },
    "kernelspec": {
      "name": "python3",
      "display_name": "Python 3"
    },
    "language_info": {
      "name": "python"
    }
  },
  "cells": [
    {
      "cell_type": "code",
      "execution_count": 1,
      "metadata": {
        "id": "iTCm9EGZu9yn"
      },
      "outputs": [],
      "source": [
        "import pandas as pd\n",
        "import numpy as np\n",
        "import matplotlib.pyplot as plt\n",
        "import seaborn as sns"
      ]
    },
    {
      "cell_type": "code",
      "source": [
        "url='https://drive.google.com/file/d/1fFRBGLqL6ZN3wSIIyFRCUaegY0abAlqm/view?usp=sharing'\n",
        "url='https://drive.google.com/uc?id=' + url.split('/')[-2]\n",
        "df = pd.read_csv(url)"
      ],
      "metadata": {
        "id": "c4pJ1dycwNRt"
      },
      "execution_count": 2,
      "outputs": []
    },
    {
      "cell_type": "code",
      "source": [
        "df.columns=['ID','Email','Net_Revenue','Year']"
      ],
      "metadata": {
        "id": "0xpGoV3PyUbj"
      },
      "execution_count": 3,
      "outputs": []
    },
    {
      "cell_type": "code",
      "source": [
        "df.duplicated().value_counts() #Checking for duplicates if any"
      ],
      "metadata": {
        "colab": {
          "base_uri": "https://localhost:8080/"
        },
        "id": "0G_f7TL797b4",
        "outputId": "1122d06a-8eb6-4271-9d77-38244ec7f9d5"
      },
      "execution_count": 4,
      "outputs": [
        {
          "output_type": "execute_result",
          "data": {
            "text/plain": [
              "False    685927\n",
              "dtype: int64"
            ]
          },
          "metadata": {},
          "execution_count": 4
        }
      ]
    },
    {
      "cell_type": "code",
      "source": [
        "df=df.drop('ID',axis=1) #Since ID is of no use as we already have index "
      ],
      "metadata": {
        "id": "kn2H8YRdSqce"
      },
      "execution_count": 5,
      "outputs": []
    },
    {
      "cell_type": "code",
      "source": [
        "df.isnull().sum() #Checking for any null values"
      ],
      "metadata": {
        "colab": {
          "base_uri": "https://localhost:8080/"
        },
        "id": "39avQCpEyVk0",
        "outputId": "dc72b0ce-008e-4aaf-a99d-58f5091cad25"
      },
      "execution_count": 6,
      "outputs": [
        {
          "output_type": "execute_result",
          "data": {
            "text/plain": [
              "Email          0\n",
              "Net_Revenue    0\n",
              "Year           0\n",
              "dtype: int64"
            ]
          },
          "metadata": {},
          "execution_count": 6
        }
      ]
    },
    {
      "cell_type": "markdown",
      "source": [
        " Since Data is Cleaned and there are no null values, we can move forward."
      ],
      "metadata": {
        "id": "BCtJNlOky4u2"
      }
    },
    {
      "cell_type": "markdown",
      "source": [
        "# For each year we need the following information:\n",
        "\n",
        "•\tTotal revenue for the current year\n",
        "\n",
        "•\tNew Customer Revenue e.g. new customers not present in previous year only\n",
        "\n",
        "•\tExisting Customer Growth. To calculate this, use the Revenue of existing customers for current year –(minus) Revenue of existing customers from the previous year\n",
        "\n",
        "•\tRevenue lost from attrition\n",
        "\n",
        "•\tExisting Customer Revenue Current Year\n",
        "\n",
        "•\tExisting Customer Revenue Prior Year\n",
        "\n",
        "•\tTotal Customers Current Year\n",
        "\n",
        "•\tTotal Customers Previous Year\n",
        "\n",
        "•\tNew Customers\n",
        "\n",
        "•\tLost Customers\n"
      ],
      "metadata": {
        "id": "fL2_3gTFzQ-H"
      }
    },
    {
      "cell_type": "code",
      "source": [
        "df.Year.unique()"
      ],
      "metadata": {
        "colab": {
          "base_uri": "https://localhost:8080/"
        },
        "id": "7NihzhaIys6O",
        "outputId": "ecb21d38-56a1-4e87-d940-2dc9bff64c31"
      },
      "execution_count": 7,
      "outputs": [
        {
          "output_type": "execute_result",
          "data": {
            "text/plain": [
              "array([2015, 2016, 2017])"
            ]
          },
          "metadata": {},
          "execution_count": 7
        }
      ]
    },
    {
      "cell_type": "code",
      "source": [
        "Years=df.groupby(df.Year) #Grouping Each data by different years i.e. 2015, 2016, 2017"
      ],
      "metadata": {
        "id": "RBrR61kPzphS"
      },
      "execution_count": 8,
      "outputs": []
    },
    {
      "cell_type": "code",
      "source": [
        "Data_of_2015=Years.get_group(2015) #Creating each group for each year"
      ],
      "metadata": {
        "id": "E0PN86gz0NmQ"
      },
      "execution_count": 9,
      "outputs": []
    },
    {
      "cell_type": "code",
      "source": [
        "Data_of_2016=Years.get_group(2016)"
      ],
      "metadata": {
        "id": "-9evRxxo0kWP"
      },
      "execution_count": 10,
      "outputs": []
    },
    {
      "cell_type": "code",
      "source": [
        "Data_of_2017=Years.get_group(2017)"
      ],
      "metadata": {
        "id": "wesk001E1Hx-"
      },
      "execution_count": 11,
      "outputs": []
    },
    {
      "cell_type": "markdown",
      "source": [
        "# Total Revenue of Current Year"
      ],
      "metadata": {
        "id": "iCrvLC171gY1"
      }
    },
    {
      "cell_type": "code",
      "source": [
        "Revenue_of_2015=Data_of_2015['Net_Revenue'].sum()\n",
        "print(f\"Total Revenue of 2015 is {Revenue_of_2015.round(2)}\")"
      ],
      "metadata": {
        "colab": {
          "base_uri": "https://localhost:8080/"
        },
        "id": "6n_Jir4g1JIo",
        "outputId": "c94faa99-6277-49cc-8f0b-a85a8ed1d6a0"
      },
      "execution_count": 12,
      "outputs": [
        {
          "output_type": "stream",
          "name": "stdout",
          "text": [
            "Total Revenue of 2015 is 29036749.19\n"
          ]
        }
      ]
    },
    {
      "cell_type": "code",
      "source": [
        "Revenue_of_2016=Data_of_2016['Net_Revenue'].sum()\n",
        "print(f\"Total Revenue of 2016 is {Revenue_of_2016.round(2)}\")"
      ],
      "metadata": {
        "colab": {
          "base_uri": "https://localhost:8080/"
        },
        "id": "2afigWyw1r8z",
        "outputId": "d84fca17-cb01-40ee-8af1-0f7b47a5e335"
      },
      "execution_count": 13,
      "outputs": [
        {
          "output_type": "stream",
          "name": "stdout",
          "text": [
            "Total Revenue of 2016 is 25730943.59\n"
          ]
        }
      ]
    },
    {
      "cell_type": "code",
      "source": [
        "Revenue_of_2017=Data_of_2017['Net_Revenue'].sum()\n",
        "print(f\"Total Revenue of 2017 is {Revenue_of_2017.round(2)}\")"
      ],
      "metadata": {
        "colab": {
          "base_uri": "https://localhost:8080/"
        },
        "id": "XdEwskCi2DXz",
        "outputId": "5115e71e-d20e-4fde-b374-a13db343a94f"
      },
      "execution_count": 14,
      "outputs": [
        {
          "output_type": "stream",
          "name": "stdout",
          "text": [
            "Total Revenue of 2017 is 31417495.03\n"
          ]
        }
      ]
    },
    {
      "cell_type": "code",
      "source": [
        "Revenue=[\n",
        "    (2015,Revenue_of_2015),\n",
        "    (2016,Revenue_of_2016),\n",
        "    (2017,Revenue_of_2017)\n",
        "]\n",
        "Total_Revenue=pd.DataFrame(Revenue,columns=['Year','TotalRevenue'])\n",
        "Total_Revenue"
      ],
      "metadata": {
        "colab": {
          "base_uri": "https://localhost:8080/",
          "height": 143
        },
        "id": "Z4f_Q1AADI-q",
        "outputId": "04dca9f8-68fa-4b72-918c-0ca13998eeb0"
      },
      "execution_count": 15,
      "outputs": [
        {
          "output_type": "execute_result",
          "data": {
            "text/plain": [
              "   Year  TotalRevenue\n",
              "0  2015   29036749.19\n",
              "1  2016   25730943.59\n",
              "2  2017   31417495.03"
            ],
            "text/html": [
              "\n",
              "  <div id=\"df-d7e7f411-a01f-4ffc-88cc-b0709c1e33b2\">\n",
              "    <div class=\"colab-df-container\">\n",
              "      <div>\n",
              "<style scoped>\n",
              "    .dataframe tbody tr th:only-of-type {\n",
              "        vertical-align: middle;\n",
              "    }\n",
              "\n",
              "    .dataframe tbody tr th {\n",
              "        vertical-align: top;\n",
              "    }\n",
              "\n",
              "    .dataframe thead th {\n",
              "        text-align: right;\n",
              "    }\n",
              "</style>\n",
              "<table border=\"1\" class=\"dataframe\">\n",
              "  <thead>\n",
              "    <tr style=\"text-align: right;\">\n",
              "      <th></th>\n",
              "      <th>Year</th>\n",
              "      <th>TotalRevenue</th>\n",
              "    </tr>\n",
              "  </thead>\n",
              "  <tbody>\n",
              "    <tr>\n",
              "      <th>0</th>\n",
              "      <td>2015</td>\n",
              "      <td>29036749.19</td>\n",
              "    </tr>\n",
              "    <tr>\n",
              "      <th>1</th>\n",
              "      <td>2016</td>\n",
              "      <td>25730943.59</td>\n",
              "    </tr>\n",
              "    <tr>\n",
              "      <th>2</th>\n",
              "      <td>2017</td>\n",
              "      <td>31417495.03</td>\n",
              "    </tr>\n",
              "  </tbody>\n",
              "</table>\n",
              "</div>\n",
              "      <button class=\"colab-df-convert\" onclick=\"convertToInteractive('df-d7e7f411-a01f-4ffc-88cc-b0709c1e33b2')\"\n",
              "              title=\"Convert this dataframe to an interactive table.\"\n",
              "              style=\"display:none;\">\n",
              "        \n",
              "  <svg xmlns=\"http://www.w3.org/2000/svg\" height=\"24px\"viewBox=\"0 0 24 24\"\n",
              "       width=\"24px\">\n",
              "    <path d=\"M0 0h24v24H0V0z\" fill=\"none\"/>\n",
              "    <path d=\"M18.56 5.44l.94 2.06.94-2.06 2.06-.94-2.06-.94-.94-2.06-.94 2.06-2.06.94zm-11 1L8.5 8.5l.94-2.06 2.06-.94-2.06-.94L8.5 2.5l-.94 2.06-2.06.94zm10 10l.94 2.06.94-2.06 2.06-.94-2.06-.94-.94-2.06-.94 2.06-2.06.94z\"/><path d=\"M17.41 7.96l-1.37-1.37c-.4-.4-.92-.59-1.43-.59-.52 0-1.04.2-1.43.59L10.3 9.45l-7.72 7.72c-.78.78-.78 2.05 0 2.83L4 21.41c.39.39.9.59 1.41.59.51 0 1.02-.2 1.41-.59l7.78-7.78 2.81-2.81c.8-.78.8-2.07 0-2.86zM5.41 20L4 18.59l7.72-7.72 1.47 1.35L5.41 20z\"/>\n",
              "  </svg>\n",
              "      </button>\n",
              "      \n",
              "  <style>\n",
              "    .colab-df-container {\n",
              "      display:flex;\n",
              "      flex-wrap:wrap;\n",
              "      gap: 12px;\n",
              "    }\n",
              "\n",
              "    .colab-df-convert {\n",
              "      background-color: #E8F0FE;\n",
              "      border: none;\n",
              "      border-radius: 50%;\n",
              "      cursor: pointer;\n",
              "      display: none;\n",
              "      fill: #1967D2;\n",
              "      height: 32px;\n",
              "      padding: 0 0 0 0;\n",
              "      width: 32px;\n",
              "    }\n",
              "\n",
              "    .colab-df-convert:hover {\n",
              "      background-color: #E2EBFA;\n",
              "      box-shadow: 0px 1px 2px rgba(60, 64, 67, 0.3), 0px 1px 3px 1px rgba(60, 64, 67, 0.15);\n",
              "      fill: #174EA6;\n",
              "    }\n",
              "\n",
              "    [theme=dark] .colab-df-convert {\n",
              "      background-color: #3B4455;\n",
              "      fill: #D2E3FC;\n",
              "    }\n",
              "\n",
              "    [theme=dark] .colab-df-convert:hover {\n",
              "      background-color: #434B5C;\n",
              "      box-shadow: 0px 1px 3px 1px rgba(0, 0, 0, 0.15);\n",
              "      filter: drop-shadow(0px 1px 2px rgba(0, 0, 0, 0.3));\n",
              "      fill: #FFFFFF;\n",
              "    }\n",
              "  </style>\n",
              "\n",
              "      <script>\n",
              "        const buttonEl =\n",
              "          document.querySelector('#df-d7e7f411-a01f-4ffc-88cc-b0709c1e33b2 button.colab-df-convert');\n",
              "        buttonEl.style.display =\n",
              "          google.colab.kernel.accessAllowed ? 'block' : 'none';\n",
              "\n",
              "        async function convertToInteractive(key) {\n",
              "          const element = document.querySelector('#df-d7e7f411-a01f-4ffc-88cc-b0709c1e33b2');\n",
              "          const dataTable =\n",
              "            await google.colab.kernel.invokeFunction('convertToInteractive',\n",
              "                                                     [key], {});\n",
              "          if (!dataTable) return;\n",
              "\n",
              "          const docLinkHtml = 'Like what you see? Visit the ' +\n",
              "            '<a target=\"_blank\" href=https://colab.research.google.com/notebooks/data_table.ipynb>data table notebook</a>'\n",
              "            + ' to learn more about interactive tables.';\n",
              "          element.innerHTML = '';\n",
              "          dataTable['output_type'] = 'display_data';\n",
              "          await google.colab.output.renderOutput(dataTable, element);\n",
              "          const docLink = document.createElement('div');\n",
              "          docLink.innerHTML = docLinkHtml;\n",
              "          element.appendChild(docLink);\n",
              "        }\n",
              "      </script>\n",
              "    </div>\n",
              "  </div>\n",
              "  "
            ]
          },
          "metadata": {},
          "execution_count": 15
        }
      ]
    },
    {
      "cell_type": "code",
      "source": [
        "plt.figure(figsize=(8,6))\n",
        "sns.barplot(data=Total_Revenue,x='Year',y='TotalRevenue')\n",
        "plt.title(\"Total Revenue by each year\")\n",
        "plt.xlabel(\"Years\")\n",
        "plt.ylabel(\"Total Revenue(in crores)\")"
      ],
      "metadata": {
        "colab": {
          "base_uri": "https://localhost:8080/",
          "height": 421
        },
        "id": "q4g0SIupEtXG",
        "outputId": "a6cbef50-472b-4405-f5f5-9ec8206e6025"
      },
      "execution_count": 16,
      "outputs": [
        {
          "output_type": "execute_result",
          "data": {
            "text/plain": [
              "Text(0, 0.5, 'Total Revenue(in crores)')"
            ]
          },
          "metadata": {},
          "execution_count": 16
        },
        {
          "output_type": "display_data",
          "data": {
            "text/plain": [
              "<Figure size 576x432 with 1 Axes>"
            ],
            "image/png": "[encoded data removed]"
          },
          "metadata": {
            "needs_background": "light"
          }
        }
      ]
    },
    {
      "cell_type": "code",
      "source": [
        "Total_Revenue"
      ],
      "metadata": {
        "colab": {
          "base_uri": "https://localhost:8080/",
          "height": 143
        },
        "id": "vi2GRSv8NId1",
        "outputId": "50bc21d9-51dc-4328-db2e-8740d5327963"
      },
      "execution_count": 17,
      "outputs": [
        {
          "output_type": "execute_result",
          "data": {
            "text/plain": [
              "   Year  TotalRevenue\n",
              "0  2015   29036749.19\n",
              "1  2016   25730943.59\n",
              "2  2017   31417495.03"
            ],
            "text/html": [
              "\n",
              "  <div id=\"df-afdfb127-1d0a-4427-94ec-5c52733ecdfd\">\n",
              "    <div class=\"colab-df-container\">\n",
              "      <div>\n",
              "<style scoped>\n",
              "    .dataframe tbody tr th:only-of-type {\n",
              "        vertical-align: middle;\n",
              "    }\n",
              "\n",
              "    .dataframe tbody tr th {\n",
              "        vertical-align: top;\n",
              "    }\n",
              "\n",
              "    .dataframe thead th {\n",
              "        text-align: right;\n",
              "    }\n",
              "</style>\n",
              "<table border=\"1\" class=\"dataframe\">\n",
              "  <thead>\n",
              "    <tr style=\"text-align: right;\">\n",
              "      <th></th>\n",
              "      <th>Year</th>\n",
              "      <th>TotalRevenue</th>\n",
              "    </tr>\n",
              "  </thead>\n",
              "  <tbody>\n",
              "    <tr>\n",
              "      <th>0</th>\n",
              "      <td>2015</td>\n",
              "      <td>29036749.19</td>\n",
              "    </tr>\n",
              "    <tr>\n",
              "      <th>1</th>\n",
              "      <td>2016</td>\n",
              "      <td>25730943.59</td>\n",
              "    </tr>\n",
              "    <tr>\n",
              "      <th>2</th>\n",
              "      <td>2017</td>\n",
              "      <td>31417495.03</td>\n",
              "    </tr>\n",
              "  </tbody>\n",
              "</table>\n",
              "</div>\n",
              "      <button class=\"colab-df-convert\" onclick=\"convertToInteractive('df-afdfb127-1d0a-4427-94ec-5c52733ecdfd')\"\n",
              "              title=\"Convert this dataframe to an interactive table.\"\n",
              "              style=\"display:none;\">\n",
              "        \n",
              "  <svg xmlns=\"http://www.w3.org/2000/svg\" height=\"24px\"viewBox=\"0 0 24 24\"\n",
              "       width=\"24px\">\n",
              "    <path d=\"M0 0h24v24H0V0z\" fill=\"none\"/>\n",
              "    <path d=\"M18.56 5.44l.94 2.06.94-2.06 2.06-.94-2.06-.94-.94-2.06-.94 2.06-2.06.94zm-11 1L8.5 8.5l.94-2.06 2.06-.94-2.06-.94L8.5 2.5l-.94 2.06-2.06.94zm10 10l.94 2.06.94-2.06 2.06-.94-2.06-.94-.94-2.06-.94 2.06-2.06.94z\"/><path d=\"M17.41 7.96l-1.37-1.37c-.4-.4-.92-.59-1.43-.59-.52 0-1.04.2-1.43.59L10.3 9.45l-7.72 7.72c-.78.78-.78 2.05 0 2.83L4 21.41c.39.39.9.59 1.41.59.51 0 1.02-.2 1.41-.59l7.78-7.78 2.81-2.81c.8-.78.8-2.07 0-2.86zM5.41 20L4 18.59l7.72-7.72 1.47 1.35L5.41 20z\"/>\n",
              "  </svg>\n",
              "      </button>\n",
              "      \n",
              "  <style>\n",
              "    .colab-df-container {\n",
              "      display:flex;\n",
              "      flex-wrap:wrap;\n",
              "      gap: 12px;\n",
              "    }\n",
              "\n",
              "    .colab-df-convert {\n",
              "      background-color: #E8F0FE;\n",
              "      border: none;\n",
              "      border-radius: 50%;\n",
              "      cursor: pointer;\n",
              "      display: none;\n",
              "      fill: #1967D2;\n",
              "      height: 32px;\n",
              "      padding: 0 0 0 0;\n",
              "      width: 32px;\n",
              "    }\n",
              "\n",
              "    .colab-df-convert:hover {\n",
              "      background-color: #E2EBFA;\n",
              "      box-shadow: 0px 1px 2px rgba(60, 64, 67, 0.3), 0px 1px 3px 1px rgba(60, 64, 67, 0.15);\n",
              "      fill: #174EA6;\n",
              "    }\n",
              "\n",
              "    [theme=dark] .colab-df-convert {\n",
              "      background-color: #3B4455;\n",
              "      fill: #D2E3FC;\n",
              "    }\n",
              "\n",
              "    [theme=dark] .colab-df-convert:hover {\n",
              "      background-color: #434B5C;\n",
              "      box-shadow: 0px 1px 3px 1px rgba(0, 0, 0, 0.15);\n",
              "      filter: drop-shadow(0px 1px 2px rgba(0, 0, 0, 0.3));\n",
              "      fill: #FFFFFF;\n",
              "    }\n",
              "  </style>\n",
              "\n",
              "      <script>\n",
              "        const buttonEl =\n",
              "          document.querySelector('#df-afdfb127-1d0a-4427-94ec-5c52733ecdfd button.colab-df-convert');\n",
              "        buttonEl.style.display =\n",
              "          google.colab.kernel.accessAllowed ? 'block' : 'none';\n",
              "\n",
              "        async function convertToInteractive(key) {\n",
              "          const element = document.querySelector('#df-afdfb127-1d0a-4427-94ec-5c52733ecdfd');\n",
              "          const dataTable =\n",
              "            await google.colab.kernel.invokeFunction('convertToInteractive',\n",
              "                                                     [key], {});\n",
              "          if (!dataTable) return;\n",
              "\n",
              "          const docLinkHtml = 'Like what you see? Visit the ' +\n",
              "            '<a target=\"_blank\" href=https://colab.research.google.com/notebooks/data_table.ipynb>data table notebook</a>'\n",
              "            + ' to learn more about interactive tables.';\n",
              "          element.innerHTML = '';\n",
              "          dataTable['output_type'] = 'display_data';\n",
              "          await google.colab.output.renderOutput(dataTable, element);\n",
              "          const docLink = document.createElement('div');\n",
              "          docLink.innerHTML = docLinkHtml;\n",
              "          element.appendChild(docLink);\n",
              "        }\n",
              "      </script>\n",
              "    </div>\n",
              "  </div>\n",
              "  "
            ]
          },
          "metadata": {},
          "execution_count": 17
        }
      ]
    },
    {
      "cell_type": "markdown",
      "source": [
        "# New Customer Revenue e.g. new customers not present in previous year only"
      ],
      "metadata": {
        "id": "Te3CCdE72ORu"
      }
    },
    {
      "cell_type": "markdown",
      "source": [
        "Logic:- Now, we need to calculate New customers Revenue for each year. \n",
        "\n",
        "Since, 2015 is the initial year and all the email_ID's are unique, it would be same as Total revenue of 2015.\n",
        "\n",
        "For 2016, we need to consider only those records which are new in terms of email ID(i.e. New Customers). So, isin operator is used to check the email ID's of 2016 with 2015 and find out new customers of 2016 and it's total revenue.\n",
        "\n",
        "For 2017, we need to consider only those records which are new in terms of email ID(i.e. New Customers). So, isin operator is used to check the email ID's of 2017 with 2016 and 2015 and find out new customers of 2017 and then sum up the revenue to find out Total revenue of new customers.\n"
      ],
      "metadata": {
        "id": "-fOEWUOD8yr4"
      }
    },
    {
      "cell_type": "code",
      "source": [
        "Revenue_of_2015=Data_of_2015['Net_Revenue'].sum()\n",
        "print(f\"Total Revenue of New Customers of 2015 is {Revenue_of_2015.round(2)}\")"
      ],
      "metadata": {
        "colab": {
          "base_uri": "https://localhost:8080/"
        },
        "id": "4wTEX4B727MS",
        "outputId": "28f10f9e-4334-41f2-8d96-b7277e3ea7dc"
      },
      "execution_count": 18,
      "outputs": [
        {
          "output_type": "stream",
          "name": "stdout",
          "text": [
            "Total Revenue of New Customers of 2015 is 29036749.19\n"
          ]
        }
      ]
    },
    {
      "cell_type": "code",
      "source": [
        "New_Customers_of_2016 = Data_of_2016[Data_of_2016.Email.isin(Data_of_2015.Email) == False] #Using Minus Intersection to get unique Email IDs for year 2016\n",
        "New_Customers_of_2016"
      ],
      "metadata": {
        "id": "-0alUTkp5C0h",
        "colab": {
          "base_uri": "https://localhost:8080/",
          "height": 423
        },
        "outputId": "b326ea73-c0e8-4247-faef-036514d05041"
      },
      "execution_count": 19,
      "outputs": [
        {
          "output_type": "execute_result",
          "data": {
            "text/plain": [
              "                        Email  Net_Revenue  Year\n",
              "231294   mwrossuukz@gmail.com       197.26  2016\n",
              "231295   gkwsoupawk@gmail.com        38.28  2016\n",
              "231296   vlyigtgfzs@gmail.com       154.57  2016\n",
              "231297   yfirychuhk@gmail.com       102.47  2016\n",
              "231298   trnzgqinuu@gmail.com        32.03  2016\n",
              "...                       ...          ...   ...\n",
              "435933   sqodpufunf@gmail.com        29.62  2016\n",
              "435934   dcakqgznnm@gmail.com       146.47  2016\n",
              "435936   rdotspqdxi@gmail.com       169.79  2016\n",
              "435937   fkweqlmmjw@gmail.com        79.71  2016\n",
              "435938   pidugzoeej@gmail.com       116.80  2016\n",
              "\n",
              "[145062 rows x 3 columns]"
            ],
            "text/html": [
              "\n",
              "  <div id=\"df-bf46b7e1-334a-4ab3-8eee-7b42b1bc2085\">\n",
              "    <div class=\"colab-df-container\">\n",
              "      <div>\n",
              "<style scoped>\n",
              "    .dataframe tbody tr th:only-of-type {\n",
              "        vertical-align: middle;\n",
              "    }\n",
              "\n",
              "    .dataframe tbody tr th {\n",
              "        vertical-align: top;\n",
              "    }\n",
              "\n",
              "    .dataframe thead th {\n",
              "        text-align: right;\n",
              "    }\n",
              "</style>\n",
              "<table border=\"1\" class=\"dataframe\">\n",
              "  <thead>\n",
              "    <tr style=\"text-align: right;\">\n",
              "      <th></th>\n",
              "      <th>Email</th>\n",
              "      <th>Net_Revenue</th>\n",
              "      <th>Year</th>\n",
              "    </tr>\n",
              "  </thead>\n",
              "  <tbody>\n",
              "    <tr>\n",
              "      <th>231294</th>\n",
              "      <td>mwrossuukz@gmail.com</td>\n",
              "      <td>197.26</td>\n",
              "      <td>2016</td>\n",
              "    </tr>\n",
              "    <tr>\n",
              "      <th>231295</th>\n",
              "      <td>gkwsoupawk@gmail.com</td>\n",
              "      <td>38.28</td>\n",
              "      <td>2016</td>\n",
              "    </tr>\n",
              "    <tr>\n",
              "      <th>231296</th>\n",
              "      <td>vlyigtgfzs@gmail.com</td>\n",
              "      <td>154.57</td>\n",
              "      <td>2016</td>\n",
              "    </tr>\n",
              "    <tr>\n",
              "      <th>231297</th>\n",
              "      <td>yfirychuhk@gmail.com</td>\n",
              "      <td>102.47</td>\n",
              "      <td>2016</td>\n",
              "    </tr>\n",
              "    <tr>\n",
              "      <th>231298</th>\n",
              "      <td>trnzgqinuu@gmail.com</td>\n",
              "      <td>32.03</td>\n",
              "      <td>2016</td>\n",
              "    </tr>\n",
              "    <tr>\n",
              "      <th>...</th>\n",
              "      <td>...</td>\n",
              "      <td>...</td>\n",
              "      <td>...</td>\n",
              "    </tr>\n",
              "    <tr>\n",
              "      <th>435933</th>\n",
              "      <td>sqodpufunf@gmail.com</td>\n",
              "      <td>29.62</td>\n",
              "      <td>2016</td>\n",
              "    </tr>\n",
              "    <tr>\n",
              "      <th>435934</th>\n",
              "      <td>dcakqgznnm@gmail.com</td>\n",
              "      <td>146.47</td>\n",
              "      <td>2016</td>\n",
              "    </tr>\n",
              "    <tr>\n",
              "      <th>435936</th>\n",
              "      <td>rdotspqdxi@gmail.com</td>\n",
              "      <td>169.79</td>\n",
              "      <td>2016</td>\n",
              "    </tr>\n",
              "    <tr>\n",
              "      <th>435937</th>\n",
              "      <td>fkweqlmmjw@gmail.com</td>\n",
              "      <td>79.71</td>\n",
              "      <td>2016</td>\n",
              "    </tr>\n",
              "    <tr>\n",
              "      <th>435938</th>\n",
              "      <td>pidugzoeej@gmail.com</td>\n",
              "      <td>116.80</td>\n",
              "      <td>2016</td>\n",
              "    </tr>\n",
              "  </tbody>\n",
              "</table>\n",
              "<p>145062 rows × 3 columns</p>\n",
              "</div>\n",
              "      <button class=\"colab-df-convert\" onclick=\"convertToInteractive('df-bf46b7e1-334a-4ab3-8eee-7b42b1bc2085')\"\n",
              "              title=\"Convert this dataframe to an interactive table.\"\n",
              "              style=\"display:none;\">\n",
              "        \n",
              "  <svg xmlns=\"http://www.w3.org/2000/svg\" height=\"24px\"viewBox=\"0 0 24 24\"\n",
              "       width=\"24px\">\n",
              "    <path d=\"M0 0h24v24H0V0z\" fill=\"none\"/>\n",
              "    <path d=\"M18.56 5.44l.94 2.06.94-2.06 2.06-.94-2.06-.94-.94-2.06-.94 2.06-2.06.94zm-11 1L8.5 8.5l.94-2.06 2.06-.94-2.06-.94L8.5 2.5l-.94 2.06-2.06.94zm10 10l.94 2.06.94-2.06 2.06-.94-2.06-.94-.94-2.06-.94 2.06-2.06.94z\"/><path d=\"M17.41 7.96l-1.37-1.37c-.4-.4-.92-.59-1.43-.59-.52 0-1.04.2-1.43.59L10.3 9.45l-7.72 7.72c-.78.78-.78 2.05 0 2.83L4 21.41c.39.39.9.59 1.41.59.51 0 1.02-.2 1.41-.59l7.78-7.78 2.81-2.81c.8-.78.8-2.07 0-2.86zM5.41 20L4 18.59l7.72-7.72 1.47 1.35L5.41 20z\"/>\n",
              "  </svg>\n",
              "      </button>\n",
              "      \n",
              "  <style>\n",
              "    .colab-df-container {\n",
              "      display:flex;\n",
              "      flex-wrap:wrap;\n",
              "      gap: 12px;\n",
              "    }\n",
              "\n",
              "    .colab-df-convert {\n",
              "      background-color: #E8F0FE;\n",
              "      border: none;\n",
              "      border-radius: 50%;\n",
              "      cursor: pointer;\n",
              "      display: none;\n",
              "      fill: #1967D2;\n",
              "      height: 32px;\n",
              "      padding: 0 0 0 0;\n",
              "      width: 32px;\n",
              "    }\n",
              "\n",
              "    .colab-df-convert:hover {\n",
              "      background-color: #E2EBFA;\n",
              "      box-shadow: 0px 1px 2px rgba(60, 64, 67, 0.3), 0px 1px 3px 1px rgba(60, 64, 67, 0.15);\n",
              "      fill: #174EA6;\n",
              "    }\n",
              "\n",
              "    [theme=dark] .colab-df-convert {\n",
              "      background-color: #3B4455;\n",
              "      fill: #D2E3FC;\n",
              "    }\n",
              "\n",
              "    [theme=dark] .colab-df-convert:hover {\n",
              "      background-color: #434B5C;\n",
              "      box-shadow: 0px 1px 3px 1px rgba(0, 0, 0, 0.15);\n",
              "      filter: drop-shadow(0px 1px 2px rgba(0, 0, 0, 0.3));\n",
              "      fill: #FFFFFF;\n",
              "    }\n",
              "  </style>\n",
              "\n",
              "      <script>\n",
              "        const buttonEl =\n",
              "          document.querySelector('#df-bf46b7e1-334a-4ab3-8eee-7b42b1bc2085 button.colab-df-convert');\n",
              "        buttonEl.style.display =\n",
              "          google.colab.kernel.accessAllowed ? 'block' : 'none';\n",
              "\n",
              "        async function convertToInteractive(key) {\n",
              "          const element = document.querySelector('#df-bf46b7e1-334a-4ab3-8eee-7b42b1bc2085');\n",
              "          const dataTable =\n",
              "            await google.colab.kernel.invokeFunction('convertToInteractive',\n",
              "                                                     [key], {});\n",
              "          if (!dataTable) return;\n",
              "\n",
              "          const docLinkHtml = 'Like what you see? Visit the ' +\n",
              "            '<a target=\"_blank\" href=https://colab.research.google.com/notebooks/data_table.ipynb>data table notebook</a>'\n",
              "            + ' to learn more about interactive tables.';\n",
              "          element.innerHTML = '';\n",
              "          dataTable['output_type'] = 'display_data';\n",
              "          await google.colab.output.renderOutput(dataTable, element);\n",
              "          const docLink = document.createElement('div');\n",
              "          docLink.innerHTML = docLinkHtml;\n",
              "          element.appendChild(docLink);\n",
              "        }\n",
              "      </script>\n",
              "    </div>\n",
              "  </div>\n",
              "  "
            ]
          },
          "metadata": {},
          "execution_count": 19
        }
      ]
    },
    {
      "cell_type": "code",
      "source": [
        "d=Data_of_2015.append(Data_of_2016)\n",
        "d['Email'].nunique()-Data_of_2015['Email'].nunique() #Crosschecking the new customers by merging data of both the years and checking it with the nunique values\n"
      ],
      "metadata": {
        "colab": {
          "base_uri": "https://localhost:8080/"
        },
        "id": "wLydVFBz6NTM",
        "outputId": "a5f67271-1a3e-48de-939d-be8ed6a5a692"
      },
      "execution_count": 20,
      "outputs": [
        {
          "output_type": "execute_result",
          "data": {
            "text/plain": [
              "145062"
            ]
          },
          "metadata": {},
          "execution_count": 20
        }
      ]
    },
    {
      "cell_type": "code",
      "source": [
        "New_Customer_Revenue_of_2016=New_Customers_of_2016['Net_Revenue'].sum()\n",
        "print(f\"Total Revenue of New Customers of 2016 is {New_Customer_Revenue_of_2016.round(2)}\")"
      ],
      "metadata": {
        "colab": {
          "base_uri": "https://localhost:8080/"
        },
        "id": "McAdh6hH7d8N",
        "outputId": "79e0b979-0414-40f1-b3db-45da225f5573"
      },
      "execution_count": 21,
      "outputs": [
        {
          "output_type": "stream",
          "name": "stdout",
          "text": [
            "Total Revenue of New Customers of 2016 is 18245491.01\n"
          ]
        }
      ]
    },
    {
      "cell_type": "code",
      "source": [
        "New_Customers_of_2017 = Data_of_2017[Data_of_2017.Email.isin(Data_of_2015.Email) == False] #Using Minus Intersection to get unique Email IDs for year 2015\n",
        "New_Customers_of_2017 = Data_of_2017[Data_of_2017.Email.isin(Data_of_2016.Email) == False] #Using Minus Intersection to get unique Email IDs for year 2016\n",
        "New_Customer_Revenue_of_2017=New_Customers_of_2017.Net_Revenue.sum()\n",
        "print(f\"Total Revenue of New Customers of 2017 is {New_Customer_Revenue_of_2017.round(2)}\")"
      ],
      "metadata": {
        "id": "3PxdmwF--UC2",
        "colab": {
          "base_uri": "https://localhost:8080/"
        },
        "outputId": "91457b66-5ef7-4340-d419-60639cfd4723"
      },
      "execution_count": 22,
      "outputs": [
        {
          "output_type": "stream",
          "name": "stdout",
          "text": [
            "Total Revenue of New Customers of 2017 is 28776235.04\n"
          ]
        }
      ]
    },
    {
      "cell_type": "code",
      "source": [
        "New_Customer_Revenue_of_2015=Data_of_2015['Net_Revenue'].sum()\n",
        "print(f\"Total Revenue of New Customers 2015 is {New_Customer_Revenue_of_2015.round(2)}\")\n",
        "\n",
        "New_Customer_Revenue_of_2016=New_Customers_of_2016['Net_Revenue'].sum()\n",
        "print(f\"Total Revenue of New Customers of 2016 is {New_Customer_Revenue_of_2016.round(2)}\")\n",
        "\n",
        "New_Customer_Revenue_of_2017=New_Customers_of_2017['Net_Revenue'].sum()\n",
        "print(f\"Total Revenue of New Customers of 2017 is {New_Customer_Revenue_of_2017.round(2)}\")"
      ],
      "metadata": {
        "colab": {
          "base_uri": "https://localhost:8080/"
        },
        "id": "7UhS1ebFCKVT",
        "outputId": "eea962a0-f6f2-4528-fd3b-303443f038b9"
      },
      "execution_count": 23,
      "outputs": [
        {
          "output_type": "stream",
          "name": "stdout",
          "text": [
            "Total Revenue of New Customers 2015 is 29036749.19\n",
            "Total Revenue of New Customers of 2016 is 18245491.01\n",
            "Total Revenue of New Customers of 2017 is 28776235.04\n"
          ]
        }
      ]
    },
    {
      "cell_type": "code",
      "source": [
        "New_Customer_Revenue=[\n",
        "    (2015,New_Customer_Revenue_of_2015),\n",
        "    (2016,New_Customer_Revenue_of_2016),\n",
        "    (2017,New_Customer_Revenue_of_2017)\n",
        "]\n",
        "New_Customer_Total_Revenue=pd.DataFrame(New_Customer_Revenue,columns=['Year','Total_Revenue_of_new_customers']) #Here, we are considering 2015 as the starting year where all the customers are considered as new customers\n",
        "New_Customer_Total_Revenue"
      ],
      "metadata": {
        "colab": {
          "base_uri": "https://localhost:8080/",
          "height": 143
        },
        "id": "YzndZm4NQQeZ",
        "outputId": "4d7714b4-788d-4fc1-f698-6c1efc2eeb48"
      },
      "execution_count": 53,
      "outputs": [
        {
          "output_type": "execute_result",
          "data": {
            "text/plain": [
              "   Year  Total_Revenue_of_new_customers\n",
              "0  2015                     29036749.19\n",
              "1  2016                     18245491.01\n",
              "2  2017                     28776235.04"
            ],
            "text/html": [
              "\n",
              "  <div id=\"df-296e8502-c144-4b37-ab75-ac2c20f484eb\">\n",
              "    <div class=\"colab-df-container\">\n",
              "      <div>\n",
              "<style scoped>\n",
              "    .dataframe tbody tr th:only-of-type {\n",
              "        vertical-align: middle;\n",
              "    }\n",
              "\n",
              "    .dataframe tbody tr th {\n",
              "        vertical-align: top;\n",
              "    }\n",
              "\n",
              "    .dataframe thead th {\n",
              "        text-align: right;\n",
              "    }\n",
              "</style>\n",
              "<table border=\"1\" class=\"dataframe\">\n",
              "  <thead>\n",
              "    <tr style=\"text-align: right;\">\n",
              "      <th></th>\n",
              "      <th>Year</th>\n",
              "      <th>Total_Revenue_of_new_customers</th>\n",
              "    </tr>\n",
              "  </thead>\n",
              "  <tbody>\n",
              "    <tr>\n",
              "      <th>0</th>\n",
              "      <td>2015</td>\n",
              "      <td>29036749.19</td>\n",
              "    </tr>\n",
              "    <tr>\n",
              "      <th>1</th>\n",
              "      <td>2016</td>\n",
              "      <td>18245491.01</td>\n",
              "    </tr>\n",
              "    <tr>\n",
              "      <th>2</th>\n",
              "      <td>2017</td>\n",
              "      <td>28776235.04</td>\n",
              "    </tr>\n",
              "  </tbody>\n",
              "</table>\n",
              "</div>\n",
              "      <button class=\"colab-df-convert\" onclick=\"convertToInteractive('df-296e8502-c144-4b37-ab75-ac2c20f484eb')\"\n",
              "              title=\"Convert this dataframe to an interactive table.\"\n",
              "              style=\"display:none;\">\n",
              "        \n",
              "  <svg xmlns=\"http://www.w3.org/2000/svg\" height=\"24px\"viewBox=\"0 0 24 24\"\n",
              "       width=\"24px\">\n",
              "    <path d=\"M0 0h24v24H0V0z\" fill=\"none\"/>\n",
              "    <path d=\"M18.56 5.44l.94 2.06.94-2.06 2.06-.94-2.06-.94-.94-2.06-.94 2.06-2.06.94zm-11 1L8.5 8.5l.94-2.06 2.06-.94-2.06-.94L8.5 2.5l-.94 2.06-2.06.94zm10 10l.94 2.06.94-2.06 2.06-.94-2.06-.94-.94-2.06-.94 2.06-2.06.94z\"/><path d=\"M17.41 7.96l-1.37-1.37c-.4-.4-.92-.59-1.43-.59-.52 0-1.04.2-1.43.59L10.3 9.45l-7.72 7.72c-.78.78-.78 2.05 0 2.83L4 21.41c.39.39.9.59 1.41.59.51 0 1.02-.2 1.41-.59l7.78-7.78 2.81-2.81c.8-.78.8-2.07 0-2.86zM5.41 20L4 18.59l7.72-7.72 1.47 1.35L5.41 20z\"/>\n",
              "  </svg>\n",
              "      </button>\n",
              "      \n",
              "  <style>\n",
              "    .colab-df-container {\n",
              "      display:flex;\n",
              "      flex-wrap:wrap;\n",
              "      gap: 12px;\n",
              "    }\n",
              "\n",
              "    .colab-df-convert {\n",
              "      background-color: #E8F0FE;\n",
              "      border: none;\n",
              "      border-radius: 50%;\n",
              "      cursor: pointer;\n",
              "      display: none;\n",
              "      fill: #1967D2;\n",
              "      height: 32px;\n",
              "      padding: 0 0 0 0;\n",
              "      width: 32px;\n",
              "    }\n",
              "\n",
              "    .colab-df-convert:hover {\n",
              "      background-color: #E2EBFA;\n",
              "      box-shadow: 0px 1px 2px rgba(60, 64, 67, 0.3), 0px 1px 3px 1px rgba(60, 64, 67, 0.15);\n",
              "      fill: #174EA6;\n",
              "    }\n",
              "\n",
              "    [theme=dark] .colab-df-convert {\n",
              "      background-color: #3B4455;\n",
              "      fill: #D2E3FC;\n",
              "    }\n",
              "\n",
              "    [theme=dark] .colab-df-convert:hover {\n",
              "      background-color: #434B5C;\n",
              "      box-shadow: 0px 1px 3px 1px rgba(0, 0, 0, 0.15);\n",
              "      filter: drop-shadow(0px 1px 2px rgba(0, 0, 0, 0.3));\n",
              "      fill: #FFFFFF;\n",
              "    }\n",
              "  </style>\n",
              "\n",
              "      <script>\n",
              "        const buttonEl =\n",
              "          document.querySelector('#df-296e8502-c144-4b37-ab75-ac2c20f484eb button.colab-df-convert');\n",
              "        buttonEl.style.display =\n",
              "          google.colab.kernel.accessAllowed ? 'block' : 'none';\n",
              "\n",
              "        async function convertToInteractive(key) {\n",
              "          const element = document.querySelector('#df-296e8502-c144-4b37-ab75-ac2c20f484eb');\n",
              "          const dataTable =\n",
              "            await google.colab.kernel.invokeFunction('convertToInteractive',\n",
              "                                                     [key], {});\n",
              "          if (!dataTable) return;\n",
              "\n",
              "          const docLinkHtml = 'Like what you see? Visit the ' +\n",
              "            '<a target=\"_blank\" href=https://colab.research.google.com/notebooks/data_table.ipynb>data table notebook</a>'\n",
              "            + ' to learn more about interactive tables.';\n",
              "          element.innerHTML = '';\n",
              "          dataTable['output_type'] = 'display_data';\n",
              "          await google.colab.output.renderOutput(dataTable, element);\n",
              "          const docLink = document.createElement('div');\n",
              "          docLink.innerHTML = docLinkHtml;\n",
              "          element.appendChild(docLink);\n",
              "        }\n",
              "      </script>\n",
              "    </div>\n",
              "  </div>\n",
              "  "
            ]
          },
          "metadata": {},
          "execution_count": 53
        }
      ]
    },
    {
      "cell_type": "code",
      "source": [
        "plt.figure(figsize=(8,6))\n",
        "sns.barplot(data=New_Customer_Total_Revenue,x='Year',y='TotalRevenue_of_new_customers')\n",
        "plt.title(\"Total Revenue by each year for new customers\")\n",
        "plt.xlabel(\"Years\")\n",
        "plt.ylabel(\"Total Revenue\")"
      ],
      "metadata": {
        "colab": {
          "base_uri": "https://localhost:8080/",
          "height": 421
        },
        "id": "1xlU7tD2QfjB",
        "outputId": "05dc26c9-45d3-454e-8ded-f13856b3cf1f"
      },
      "execution_count": 25,
      "outputs": [
        {
          "output_type": "execute_result",
          "data": {
            "text/plain": [
              "Text(0, 0.5, 'Total Revenue')"
            ]
          },
          "metadata": {},
          "execution_count": 25
        },
        {
          "output_type": "display_data",
          "data": {
            "text/plain": [
              "<Figure size 576x432 with 1 Axes>"
            ],
            "image/png": "[encoded data removed]"
          },
          "metadata": {
            "needs_background": "light"
          }
        }
      ]
    },
    {
      "cell_type": "markdown",
      "source": [
        "#\tExisting Customer Growth. To calculate this, use the Revenue of existing customers for current year –(minus) Revenue of existing customers from the previous year"
      ],
      "metadata": {
        "id": "X2Es-8kNiIsQ"
      }
    },
    {
      "cell_type": "code",
      "source": [
        "Existing_Customers_of_2016 = Data_of_2016[Data_of_2016.Email.isin(Data_of_2015.Email) == True]\n",
        "Existing_Customers_of_2016_previous_year = Data_of_2015[Data_of_2015.Email.isin(Data_of_2016.Email) == True] "
      ],
      "metadata": {
        "id": "iQ-zhjhHiQU5"
      },
      "execution_count": 26,
      "outputs": []
    },
    {
      "cell_type": "code",
      "source": [
        "Existing_Customers_of_2017 = Data_of_2017[Data_of_2017.Email.isin(Data_of_2016.Email) == True] #Using Minus Intersection to get existing Email IDs for year 2016\n",
        "Existing_Customers_of_2017_previous_year = Data_of_2016[Data_of_2016.Email.isin(Data_of_2017.Email) == True] "
      ],
      "metadata": {
        "id": "75kDSTeokYGG"
      },
      "execution_count": 27,
      "outputs": []
    },
    {
      "cell_type": "code",
      "source": [
        "Existing_Customers_of_2017.Net_Revenue.sum()"
      ],
      "metadata": {
        "colab": {
          "base_uri": "https://localhost:8080/"
        },
        "id": "-3HRdlw6k0JZ",
        "outputId": "ec537185-dbb3-4cde-f016-7ecfb7fe2e2b"
      },
      "execution_count": 28,
      "outputs": [
        {
          "output_type": "execute_result",
          "data": {
            "text/plain": [
              "2641259.99"
            ]
          },
          "metadata": {},
          "execution_count": 28
        }
      ]
    },
    {
      "cell_type": "code",
      "source": [
        "Existing_Customers_of_2016.Net_Revenue.sum()"
      ],
      "metadata": {
        "colab": {
          "base_uri": "https://localhost:8080/"
        },
        "id": "nLB_occcrPuS",
        "outputId": "61171f48-25d1-4fe5-a697-a07c3c2b89c1"
      },
      "execution_count": 29,
      "outputs": [
        {
          "output_type": "execute_result",
          "data": {
            "text/plain": [
              "7485452.58"
            ]
          },
          "metadata": {},
          "execution_count": 29
        }
      ]
    },
    {
      "cell_type": "code",
      "source": [
        "Customer_Growth_from_2015_to_2016=Existing_Customers_of_2016.Net_Revenue.sum()-Existing_Customers_of_2016_previous_year.Net_Revenue.sum()"
      ],
      "metadata": {
        "id": "UCVB25MHlELl"
      },
      "execution_count": 30,
      "outputs": []
    },
    {
      "cell_type": "code",
      "source": [
        "Customer_Growth_from_2015_to_2016"
      ],
      "metadata": {
        "colab": {
          "base_uri": "https://localhost:8080/"
        },
        "id": "RfvZrcjyrrPG",
        "outputId": "9055ac33-cd57-4639-e6f2-710ee01599df"
      },
      "execution_count": 31,
      "outputs": [
        {
          "output_type": "execute_result",
          "data": {
            "text/plain": [
              "20335.459999999963"
            ]
          },
          "metadata": {},
          "execution_count": 31
        }
      ]
    },
    {
      "cell_type": "code",
      "source": [
        "Customer_Growth_from_2016_to_2017=Existing_Customers_of_2017.Net_Revenue.sum()-Existing_Customers_of_2017_previous_year.Net_Revenue.sum()"
      ],
      "metadata": {
        "id": "vxBuPPDlr5vM"
      },
      "execution_count": 32,
      "outputs": []
    },
    {
      "cell_type": "code",
      "source": [
        "Customer_Growth_from_2016_to_2017"
      ],
      "metadata": {
        "colab": {
          "base_uri": "https://localhost:8080/"
        },
        "id": "eq-lWf-SrsS4",
        "outputId": "d1903b0e-9a80-4a7b-a71e-a2a8d47a68b1"
      },
      "execution_count": 33,
      "outputs": [
        {
          "output_type": "execute_result",
          "data": {
            "text/plain": [
              "20611.340000000317"
            ]
          },
          "metadata": {},
          "execution_count": 33
        }
      ]
    },
    {
      "cell_type": "markdown",
      "source": [
        "# Revenue lost from attrition"
      ],
      "metadata": {
        "id": "bIZVeNfXsGHZ"
      }
    },
    {
      "cell_type": "code",
      "source": [
        "Lost_Customers_of_2016 = Data_of_2015[Data_of_2015.Email.isin(Data_of_2016.Email) == False] "
      ],
      "metadata": {
        "id": "0bnUKB_asH4o"
      },
      "execution_count": 54,
      "outputs": []
    },
    {
      "cell_type": "code",
      "source": [
        "Lost_Customers_of_2017 = Data_of_2016[Data_of_2016.Email.isin(Data_of_2017.Email) == False] "
      ],
      "metadata": {
        "id": "Bd0N7IUi7yk-"
      },
      "execution_count": 56,
      "outputs": []
    },
    {
      "cell_type": "code",
      "source": [
        "Revenue_Lost= Lost_Customers_of_2016.Net_Revenue.sum() + Lost_Customers_of_2017.Net_Revenue.sum()"
      ],
      "metadata": {
        "id": "q4nFGP5GBYQl"
      },
      "execution_count": 58,
      "outputs": []
    },
    {
      "cell_type": "code",
      "source": [
        "print(f' Total Revenue Lost from attrition is {Revenue_Lost.round(2)}')"
      ],
      "metadata": {
        "colab": {
          "base_uri": "https://localhost:8080/"
        },
        "id": "ljL7fwzMBkrg",
        "outputId": "04b34536-9cfd-4a75-b05b-dc23c4363a3f"
      },
      "execution_count": 59,
      "outputs": [
        {
          "output_type": "stream",
          "name": "stdout",
          "text": [
            " Total Revenue Lost from attrition is 44681927.01\n"
          ]
        }
      ]
    },
    {
      "cell_type": "markdown",
      "source": [
        "#\tExisting Customer Revenue Current Year and Prior Year"
      ],
      "metadata": {
        "id": "0AXdBtiqCfqJ"
      }
    },
    {
      "cell_type": "code",
      "source": [
        "print(f' Total Revenue of Existing Customers in 2015 is 0')#As er don't have data of previous year's and this year's to get the existing customers"
      ],
      "metadata": {
        "colab": {
          "base_uri": "https://localhost:8080/"
        },
        "id": "IDaShLVfDV1i",
        "outputId": "504dfccc-40e4-4e37-a6dd-5f81d169a7ac"
      },
      "execution_count": 40,
      "outputs": [
        {
          "output_type": "stream",
          "name": "stdout",
          "text": [
            " Total Revenue of Existing Customers in 2015 is 0\n"
          ]
        }
      ]
    },
    {
      "cell_type": "code",
      "source": [
        "Existing_Customers_of_2016_Revenue=Existing_Customers_of_2016.Net_Revenue.sum()\n",
        "print(f' Total Revenue of Existing Customers in 2016 is {Existing_Customers_of_2016_Revenue.round(2)}')"
      ],
      "metadata": {
        "colab": {
          "base_uri": "https://localhost:8080/"
        },
        "id": "mFu9YeLqDQ3k",
        "outputId": "0dae46d6-6ae4-4096-93ac-a18086166d97"
      },
      "execution_count": 62,
      "outputs": [
        {
          "output_type": "stream",
          "name": "stdout",
          "text": [
            " Total Revenue of Existing Customers in 2016 is 7485452.58\n"
          ]
        }
      ]
    },
    {
      "cell_type": "code",
      "source": [
        "Existing_Customers_of_2017_Revenue=Existing_Customers_of_2017.Net_Revenue.sum()\n",
        "print(f' Total Revenue of Existing Customers in 2017 is {Existing_Customers_of_2017_Revenue.round(2)}')"
      ],
      "metadata": {
        "colab": {
          "base_uri": "https://localhost:8080/"
        },
        "id": "Ny_dEjeWChhw",
        "outputId": "a54c2dde-6db5-4942-84e8-8bb41331fa15"
      },
      "execution_count": 61,
      "outputs": [
        {
          "output_type": "stream",
          "name": "stdout",
          "text": [
            " Total Revenue of Existing Customers in 2017 is 2641259.99\n"
          ]
        }
      ]
    },
    {
      "cell_type": "markdown",
      "source": [
        "# Total Customers Current Year and Total Customers Previous Year\n"
      ],
      "metadata": {
        "id": "BvTRsRClDhU8"
      }
    },
    {
      "cell_type": "code",
      "source": [
        "Total_Customers_in_2015=Data_of_2015.Email.nunique()\n",
        "print(f' Total Unique Customers in 2015 were {Total_Customers_in_2015}')"
      ],
      "metadata": {
        "colab": {
          "base_uri": "https://localhost:8080/"
        },
        "id": "fe9OeWj6DlA0",
        "outputId": "a776e4d0-60e9-42d5-ea54-6c058ee6c096"
      },
      "execution_count": 43,
      "outputs": [
        {
          "output_type": "stream",
          "name": "stdout",
          "text": [
            " Total Unique Customers in 2015 were 231294\n"
          ]
        }
      ]
    },
    {
      "cell_type": "code",
      "source": [
        "Total_Customers_in_2016=pd.concat([Data_of_2015,Data_of_2016])\n",
        "Total_Customers_in_2016=Total_Customers_in_2016.Email.nunique()\n",
        "print(f' Total Unique Customers in 2015 and 2016 were {Total_Customers_in_2016}')\n",
        "print(f' Total Customers in 2016 were {Data_of_2016.Email.nunique()}')"
      ],
      "metadata": {
        "colab": {
          "base_uri": "https://localhost:8080/"
        },
        "id": "aUaRi5WWDzEj",
        "outputId": "5a24b1c9-38cc-4c3b-9cfe-96d2c9f74561"
      },
      "execution_count": 64,
      "outputs": [
        {
          "output_type": "stream",
          "name": "stdout",
          "text": [
            " Total Unique Customers in 2015 and 2016 were 376356\n",
            " Total Customers in 2016 were 204646\n"
          ]
        }
      ]
    },
    {
      "cell_type": "code",
      "source": [
        "Total_Customers_in_2017=df.Email.nunique()\n",
        "print(f' Total Unique Customers in 2015, 2016 and 2017 were {Total_Customers_in_2017}')\n",
        "print(f' Total Customers in 2017 were {Data_of_2017.Email.nunique()}')"
      ],
      "metadata": {
        "colab": {
          "base_uri": "https://localhost:8080/"
        },
        "id": "15GGVPxOGzbc",
        "outputId": "44ed0faa-8ed2-4c01-94cf-c138908e2d85"
      },
      "execution_count": 65,
      "outputs": [
        {
          "output_type": "stream",
          "name": "stdout",
          "text": [
            " Total Unique Customers in 2015, 2016 and 2017 were 604618\n",
            " Total Customers in 2017 were 249987\n"
          ]
        }
      ]
    },
    {
      "cell_type": "markdown",
      "source": [
        "# New Customers and Lost Cutomers"
      ],
      "metadata": {
        "id": "j0h8y2JrHoEA"
      }
    },
    {
      "cell_type": "code",
      "source": [
        "print(f' New Customers in 2015 were {Data_of_2015.Email.nunique()}')\n",
        "print(f' New Customers in 2016 were {New_Customers_of_2016.Email.nunique()}')\n",
        "print(f' New Customers in 2017 were {New_Customers_of_2017.Email.nunique()}')"
      ],
      "metadata": {
        "colab": {
          "base_uri": "https://localhost:8080/"
        },
        "id": "5W7lpz3_HvJ8",
        "outputId": "4c3d9014-0a06-458e-81e0-dba1320473d4"
      },
      "execution_count": 46,
      "outputs": [
        {
          "output_type": "stream",
          "name": "stdout",
          "text": [
            " New Customers in 2015 were 231294\n",
            " New Customers in 2016 were 145062\n",
            " New Customers in 2017 were 229028\n"
          ]
        }
      ]
    },
    {
      "cell_type": "code",
      "source": [
        "New_Customer_Revenue_of_2017"
      ],
      "metadata": {
        "colab": {
          "base_uri": "https://localhost:8080/"
        },
        "id": "rvCHsS6DhhFr",
        "outputId": "fcc424b8-b395-4dfe-98ec-75bb97f8c648"
      },
      "execution_count": 52,
      "outputs": [
        {
          "output_type": "execute_result",
          "data": {
            "text/plain": [
              "28776235.039999995"
            ]
          },
          "metadata": {},
          "execution_count": 52
        }
      ]
    },
    {
      "cell_type": "code",
      "source": [
        "Lost_Customers_of_2016"
      ],
      "metadata": {
        "colab": {
          "base_uri": "https://localhost:8080/",
          "height": 423
        },
        "id": "yezF7peWnkB2",
        "outputId": "58d53804-d131-4e00-a75b-fd9e227a0390"
      },
      "execution_count": 77,
      "outputs": [
        {
          "output_type": "execute_result",
          "data": {
            "text/plain": [
              "                        Email  Net_Revenue  Year\n",
              "0        nhknapwsbx@gmail.com       249.92  2015\n",
              "1        joiuzbvcpn@gmail.com        87.61  2015\n",
              "2        ukkjctepxt@gmail.com       168.38  2015\n",
              "3        gykatilzrt@gmail.com        62.40  2015\n",
              "4        mmsgsrtxah@gmail.com        43.08  2015\n",
              "...                       ...          ...   ...\n",
              "231289   xtrpmgjbwp@gmail.com       216.89  2015\n",
              "231290   peeorxpsbr@gmail.com        39.16  2015\n",
              "231291   vanasezjpw@gmail.com       233.46  2015\n",
              "231292   dnpremlztb@gmail.com       136.27  2015\n",
              "231293   qsgswrpycl@gmail.com        60.24  2015\n",
              "\n",
              "[171710 rows x 3 columns]"
            ],
            "text/html": [
              "\n",
              "  <div id=\"df-386a5e4d-094c-4c1b-a5c5-eb6fb85bc496\">\n",
              "    <div class=\"colab-df-container\">\n",
              "      <div>\n",
              "<style scoped>\n",
              "    .dataframe tbody tr th:only-of-type {\n",
              "        vertical-align: middle;\n",
              "    }\n",
              "\n",
              "    .dataframe tbody tr th {\n",
              "        vertical-align: top;\n",
              "    }\n",
              "\n",
              "    .dataframe thead th {\n",
              "        text-align: right;\n",
              "    }\n",
              "</style>\n",
              "<table border=\"1\" class=\"dataframe\">\n",
              "  <thead>\n",
              "    <tr style=\"text-align: right;\">\n",
              "      <th></th>\n",
              "      <th>Email</th>\n",
              "      <th>Net_Revenue</th>\n",
              "      <th>Year</th>\n",
              "    </tr>\n",
              "  </thead>\n",
              "  <tbody>\n",
              "    <tr>\n",
              "      <th>0</th>\n",
              "      <td>nhknapwsbx@gmail.com</td>\n",
              "      <td>249.92</td>\n",
              "      <td>2015</td>\n",
              "    </tr>\n",
              "    <tr>\n",
              "      <th>1</th>\n",
              "      <td>joiuzbvcpn@gmail.com</td>\n",
              "      <td>87.61</td>\n",
              "      <td>2015</td>\n",
              "    </tr>\n",
              "    <tr>\n",
              "      <th>2</th>\n",
              "      <td>ukkjctepxt@gmail.com</td>\n",
              "      <td>168.38</td>\n",
              "      <td>2015</td>\n",
              "    </tr>\n",
              "    <tr>\n",
              "      <th>3</th>\n",
              "      <td>gykatilzrt@gmail.com</td>\n",
              "      <td>62.40</td>\n",
              "      <td>2015</td>\n",
              "    </tr>\n",
              "    <tr>\n",
              "      <th>4</th>\n",
              "      <td>mmsgsrtxah@gmail.com</td>\n",
              "      <td>43.08</td>\n",
              "      <td>2015</td>\n",
              "    </tr>\n",
              "    <tr>\n",
              "      <th>...</th>\n",
              "      <td>...</td>\n",
              "      <td>...</td>\n",
              "      <td>...</td>\n",
              "    </tr>\n",
              "    <tr>\n",
              "      <th>231289</th>\n",
              "      <td>xtrpmgjbwp@gmail.com</td>\n",
              "      <td>216.89</td>\n",
              "      <td>2015</td>\n",
              "    </tr>\n",
              "    <tr>\n",
              "      <th>231290</th>\n",
              "      <td>peeorxpsbr@gmail.com</td>\n",
              "      <td>39.16</td>\n",
              "      <td>2015</td>\n",
              "    </tr>\n",
              "    <tr>\n",
              "      <th>231291</th>\n",
              "      <td>vanasezjpw@gmail.com</td>\n",
              "      <td>233.46</td>\n",
              "      <td>2015</td>\n",
              "    </tr>\n",
              "    <tr>\n",
              "      <th>231292</th>\n",
              "      <td>dnpremlztb@gmail.com</td>\n",
              "      <td>136.27</td>\n",
              "      <td>2015</td>\n",
              "    </tr>\n",
              "    <tr>\n",
              "      <th>231293</th>\n",
              "      <td>qsgswrpycl@gmail.com</td>\n",
              "      <td>60.24</td>\n",
              "      <td>2015</td>\n",
              "    </tr>\n",
              "  </tbody>\n",
              "</table>\n",
              "<p>171710 rows × 3 columns</p>\n",
              "</div>\n",
              "      <button class=\"colab-df-convert\" onclick=\"convertToInteractive('df-386a5e4d-094c-4c1b-a5c5-eb6fb85bc496')\"\n",
              "              title=\"Convert this dataframe to an interactive table.\"\n",
              "              style=\"display:none;\">\n",
              "        \n",
              "  <svg xmlns=\"http://www.w3.org/2000/svg\" height=\"24px\"viewBox=\"0 0 24 24\"\n",
              "       width=\"24px\">\n",
              "    <path d=\"M0 0h24v24H0V0z\" fill=\"none\"/>\n",
              "    <path d=\"M18.56 5.44l.94 2.06.94-2.06 2.06-.94-2.06-.94-.94-2.06-.94 2.06-2.06.94zm-11 1L8.5 8.5l.94-2.06 2.06-.94-2.06-.94L8.5 2.5l-.94 2.06-2.06.94zm10 10l.94 2.06.94-2.06 2.06-.94-2.06-.94-.94-2.06-.94 2.06-2.06.94z\"/><path d=\"M17.41 7.96l-1.37-1.37c-.4-.4-.92-.59-1.43-.59-.52 0-1.04.2-1.43.59L10.3 9.45l-7.72 7.72c-.78.78-.78 2.05 0 2.83L4 21.41c.39.39.9.59 1.41.59.51 0 1.02-.2 1.41-.59l7.78-7.78 2.81-2.81c.8-.78.8-2.07 0-2.86zM5.41 20L4 18.59l7.72-7.72 1.47 1.35L5.41 20z\"/>\n",
              "  </svg>\n",
              "      </button>\n",
              "      \n",
              "  <style>\n",
              "    .colab-df-container {\n",
              "      display:flex;\n",
              "      flex-wrap:wrap;\n",
              "      gap: 12px;\n",
              "    }\n",
              "\n",
              "    .colab-df-convert {\n",
              "      background-color: #E8F0FE;\n",
              "      border: none;\n",
              "      border-radius: 50%;\n",
              "      cursor: pointer;\n",
              "      display: none;\n",
              "      fill: #1967D2;\n",
              "      height: 32px;\n",
              "      padding: 0 0 0 0;\n",
              "      width: 32px;\n",
              "    }\n",
              "\n",
              "    .colab-df-convert:hover {\n",
              "      background-color: #E2EBFA;\n",
              "      box-shadow: 0px 1px 2px rgba(60, 64, 67, 0.3), 0px 1px 3px 1px rgba(60, 64, 67, 0.15);\n",
              "      fill: #174EA6;\n",
              "    }\n",
              "\n",
              "    [theme=dark] .colab-df-convert {\n",
              "      background-color: #3B4455;\n",
              "      fill: #D2E3FC;\n",
              "    }\n",
              "\n",
              "    [theme=dark] .colab-df-convert:hover {\n",
              "      background-color: #434B5C;\n",
              "      box-shadow: 0px 1px 3px 1px rgba(0, 0, 0, 0.15);\n",
              "      filter: drop-shadow(0px 1px 2px rgba(0, 0, 0, 0.3));\n",
              "      fill: #FFFFFF;\n",
              "    }\n",
              "  </style>\n",
              "\n",
              "      <script>\n",
              "        const buttonEl =\n",
              "          document.querySelector('#df-386a5e4d-094c-4c1b-a5c5-eb6fb85bc496 button.colab-df-convert');\n",
              "        buttonEl.style.display =\n",
              "          google.colab.kernel.accessAllowed ? 'block' : 'none';\n",
              "\n",
              "        async function convertToInteractive(key) {\n",
              "          const element = document.querySelector('#df-386a5e4d-094c-4c1b-a5c5-eb6fb85bc496');\n",
              "          const dataTable =\n",
              "            await google.colab.kernel.invokeFunction('convertToInteractive',\n",
              "                                                     [key], {});\n",
              "          if (!dataTable) return;\n",
              "\n",
              "          const docLinkHtml = 'Like what you see? Visit the ' +\n",
              "            '<a target=\"_blank\" href=https://colab.research.google.com/notebooks/data_table.ipynb>data table notebook</a>'\n",
              "            + ' to learn more about interactive tables.';\n",
              "          element.innerHTML = '';\n",
              "          dataTable['output_type'] = 'display_data';\n",
              "          await google.colab.output.renderOutput(dataTable, element);\n",
              "          const docLink = document.createElement('div');\n",
              "          docLink.innerHTML = docLinkHtml;\n",
              "          element.appendChild(docLink);\n",
              "        }\n",
              "      </script>\n",
              "    </div>\n",
              "  </div>\n",
              "  "
            ]
          },
          "metadata": {},
          "execution_count": 77
        }
      ]
    },
    {
      "cell_type": "code",
      "source": [
        "print(f' Lost Customers in 2016 were {Lost_Customers_of_2016.Email.nunique()}')\n",
        "print(f' Lost Customers in 2017 were {Lost_Customers_of_2017.Email.nunique()}')\n"
      ],
      "metadata": {
        "colab": {
          "base_uri": "https://localhost:8080/"
        },
        "id": "EVe4hJq_H_hj",
        "outputId": "4e55aa22-76e5-426b-f4db-eb339f66bb2d"
      },
      "execution_count": 80,
      "outputs": [
        {
          "output_type": "stream",
          "name": "stdout",
          "text": [
            " Lost Customers in 2016 were 171710\n",
            " Lost Customers in 2017 were 183687\n"
          ]
        }
      ]
    },
    {
      "cell_type": "code",
      "source": [
        "Final=[\n",
        "    (2015,Revenue_of_2015,Total_Customers_in_2015,np.nan,np.nan,np.nan,np.nan,np.nan,np.nan),\n",
        "    (2016,Revenue_of_2016,Data_of_2016.Email.nunique(),New_Customers_of_2016.Email.nunique(),New_Customer_Revenue_of_2016,Existing_Customers_of_2016.Email.nunique(),Existing_Customers_of_2016_Revenue,Lost_Customers_of_2016.Email.nunique(),Lost_Customers_of_2016.Net_Revenue.sum()),\n",
        "    (2017,Revenue_of_2017,Data_of_2017.Email.nunique(),New_Customers_of_2017.Email.nunique(),New_Customer_Revenue_of_2017,Existing_Customers_of_2017.Email.nunique(),Existing_Customers_of_2017_Revenue,Lost_Customers_of_2017.Email.nunique(),Lost_Customers_of_2017.Net_Revenue.sum())\n",
        "]\n",
        "Final=pd.DataFrame(Final,columns=['Year','Total Revenue','Total Customers','New Customers','New Customers Revenue','Existing Customers','Existing Customers Revenue','Lost Customers','Lost Customers Revenue'])\n",
        "Final"
      ],
      "metadata": {
        "colab": {
          "base_uri": "https://localhost:8080/",
          "height": 188
        },
        "id": "fyZEBLKtk3tz",
        "outputId": "698054f3-597a-4c19-871d-f1c108923bf6"
      },
      "execution_count": 93,
      "outputs": [
        {
          "output_type": "execute_result",
          "data": {
            "text/plain": [
              "   Year  Total Revenue  Total Customers  New Customers  New Customers Revenue  \\\n",
              "0  2015    29036749.19           231294            NaN                    NaN   \n",
              "1  2016    25730943.59           204646       145062.0            18245491.01   \n",
              "2  2017    31417495.03           249987       229028.0            28776235.04   \n",
              "\n",
              "   Existing Customers  Existing Customers Revenue  Lost Customers  \\\n",
              "0                 NaN                         NaN             NaN   \n",
              "1             59584.0                  7485452.58        171710.0   \n",
              "2             20959.0                  2641259.99        183687.0   \n",
              "\n",
              "   Lost Customers Revenue  \n",
              "0                     NaN  \n",
              "1             21571632.07  \n",
              "2             23110294.94  "
            ],
            "text/html": [
              "\n",
              "  <div id=\"df-9d1b423c-732b-40d0-aaa4-e952b93f0388\">\n",
              "    <div class=\"colab-df-container\">\n",
              "      <div>\n",
              "<style scoped>\n",
              "    .dataframe tbody tr th:only-of-type {\n",
              "        vertical-align: middle;\n",
              "    }\n",
              "\n",
              "    .dataframe tbody tr th {\n",
              "        vertical-align: top;\n",
              "    }\n",
              "\n",
              "    .dataframe thead th {\n",
              "        text-align: right;\n",
              "    }\n",
              "</style>\n",
              "<table border=\"1\" class=\"dataframe\">\n",
              "  <thead>\n",
              "    <tr style=\"text-align: right;\">\n",
              "      <th></th>\n",
              "      <th>Year</th>\n",
              "      <th>Total Revenue</th>\n",
              "      <th>Total Customers</th>\n",
              "      <th>New Customers</th>\n",
              "      <th>New Customers Revenue</th>\n",
              "      <th>Existing Customers</th>\n",
              "      <th>Existing Customers Revenue</th>\n",
              "      <th>Lost Customers</th>\n",
              "      <th>Lost Customers Revenue</th>\n",
              "    </tr>\n",
              "  </thead>\n",
              "  <tbody>\n",
              "    <tr>\n",
              "      <th>0</th>\n",
              "      <td>2015</td>\n",
              "      <td>29036749.19</td>\n",
              "      <td>231294</td>\n",
              "      <td>NaN</td>\n",
              "      <td>NaN</td>\n",
              "      <td>NaN</td>\n",
              "      <td>NaN</td>\n",
              "      <td>NaN</td>\n",
              "      <td>NaN</td>\n",
              "    </tr>\n",
              "    <tr>\n",
              "      <th>1</th>\n",
              "      <td>2016</td>\n",
              "      <td>25730943.59</td>\n",
              "      <td>204646</td>\n",
              "      <td>145062.0</td>\n",
              "      <td>18245491.01</td>\n",
              "      <td>59584.0</td>\n",
              "      <td>7485452.58</td>\n",
              "      <td>171710.0</td>\n",
              "      <td>21571632.07</td>\n",
              "    </tr>\n",
              "    <tr>\n",
              "      <th>2</th>\n",
              "      <td>2017</td>\n",
              "      <td>31417495.03</td>\n",
              "      <td>249987</td>\n",
              "      <td>229028.0</td>\n",
              "      <td>28776235.04</td>\n",
              "      <td>20959.0</td>\n",
              "      <td>2641259.99</td>\n",
              "      <td>183687.0</td>\n",
              "      <td>23110294.94</td>\n",
              "    </tr>\n",
              "  </tbody>\n",
              "</table>\n",
              "</div>\n",
              "      <button class=\"colab-df-convert\" onclick=\"convertToInteractive('df-9d1b423c-732b-40d0-aaa4-e952b93f0388')\"\n",
              "              title=\"Convert this dataframe to an interactive table.\"\n",
              "              style=\"display:none;\">\n",
              "        \n",
              "  <svg xmlns=\"http://www.w3.org/2000/svg\" height=\"24px\"viewBox=\"0 0 24 24\"\n",
              "       width=\"24px\">\n",
              "    <path d=\"M0 0h24v24H0V0z\" fill=\"none\"/>\n",
              "    <path d=\"M18.56 5.44l.94 2.06.94-2.06 2.06-.94-2.06-.94-.94-2.06-.94 2.06-2.06.94zm-11 1L8.5 8.5l.94-2.06 2.06-.94-2.06-.94L8.5 2.5l-.94 2.06-2.06.94zm10 10l.94 2.06.94-2.06 2.06-.94-2.06-.94-.94-2.06-.94 2.06-2.06.94z\"/><path d=\"M17.41 7.96l-1.37-1.37c-.4-.4-.92-.59-1.43-.59-.52 0-1.04.2-1.43.59L10.3 9.45l-7.72 7.72c-.78.78-.78 2.05 0 2.83L4 21.41c.39.39.9.59 1.41.59.51 0 1.02-.2 1.41-.59l7.78-7.78 2.81-2.81c.8-.78.8-2.07 0-2.86zM5.41 20L4 18.59l7.72-7.72 1.47 1.35L5.41 20z\"/>\n",
              "  </svg>\n",
              "      </button>\n",
              "      \n",
              "  <style>\n",
              "    .colab-df-container {\n",
              "      display:flex;\n",
              "      flex-wrap:wrap;\n",
              "      gap: 12px;\n",
              "    }\n",
              "\n",
              "    .colab-df-convert {\n",
              "      background-color: #E8F0FE;\n",
              "      border: none;\n",
              "      border-radius: 50%;\n",
              "      cursor: pointer;\n",
              "      display: none;\n",
              "      fill: #1967D2;\n",
              "      height: 32px;\n",
              "      padding: 0 0 0 0;\n",
              "      width: 32px;\n",
              "    }\n",
              "\n",
              "    .colab-df-convert:hover {\n",
              "      background-color: #E2EBFA;\n",
              "      box-shadow: 0px 1px 2px rgba(60, 64, 67, 0.3), 0px 1px 3px 1px rgba(60, 64, 67, 0.15);\n",
              "      fill: #174EA6;\n",
              "    }\n",
              "\n",
              "    [theme=dark] .colab-df-convert {\n",
              "      background-color: #3B4455;\n",
              "      fill: #D2E3FC;\n",
              "    }\n",
              "\n",
              "    [theme=dark] .colab-df-convert:hover {\n",
              "      background-color: #434B5C;\n",
              "      box-shadow: 0px 1px 3px 1px rgba(0, 0, 0, 0.15);\n",
              "      filter: drop-shadow(0px 1px 2px rgba(0, 0, 0, 0.3));\n",
              "      fill: #FFFFFF;\n",
              "    }\n",
              "  </style>\n",
              "\n",
              "      <script>\n",
              "        const buttonEl =\n",
              "          document.querySelector('#df-9d1b423c-732b-40d0-aaa4-e952b93f0388 button.colab-df-convert');\n",
              "        buttonEl.style.display =\n",
              "          google.colab.kernel.accessAllowed ? 'block' : 'none';\n",
              "\n",
              "        async function convertToInteractive(key) {\n",
              "          const element = document.querySelector('#df-9d1b423c-732b-40d0-aaa4-e952b93f0388');\n",
              "          const dataTable =\n",
              "            await google.colab.kernel.invokeFunction('convertToInteractive',\n",
              "                                                     [key], {});\n",
              "          if (!dataTable) return;\n",
              "\n",
              "          const docLinkHtml = 'Like what you see? Visit the ' +\n",
              "            '<a target=\"_blank\" href=https://colab.research.google.com/notebooks/data_table.ipynb>data table notebook</a>'\n",
              "            + ' to learn more about interactive tables.';\n",
              "          element.innerHTML = '';\n",
              "          dataTable['output_type'] = 'display_data';\n",
              "          await google.colab.output.renderOutput(dataTable, element);\n",
              "          const docLink = document.createElement('div');\n",
              "          docLink.innerHTML = docLinkHtml;\n",
              "          element.appendChild(docLink);\n",
              "        }\n",
              "      </script>\n",
              "    </div>\n",
              "  </div>\n",
              "  "
            ]
          },
          "metadata": {},
          "execution_count": 93
        }
      ]
    }
  ]
}